{
 "cells": [
  {
   "cell_type": "code",
   "execution_count": null,
   "id": "2bbc9531",
   "metadata": {},
   "outputs": [],
   "source": [
    "# 1\n",
    "# Now your friend has followed a lot of different food bloggers, he needs to analyse the habits of these bloggers.\n",
    "# 1-From the list of instagram handles you obtained when you searched ‘food’ in previous project. Open the first 10 handles and find the top 5 which have the highest number of followers\n",
    "# 2-Now Find the number of posts these handles have done in the previous 3 days.\n",
    "# 3-Depict this information using a suitable graph."
   ]
  },
  {
   "cell_type": "code",
   "execution_count": null,
   "id": "47677cb1",
   "metadata": {},
   "outputs": [],
   "source": [
    "#importing packages\n",
    "from selenium import webdriver\n",
    "import os\n",
    "import sys \n",
    "import pandas as pd\n",
    "from bs4 import BeautifulSoup\n",
    "import requests\n",
    "import re\n",
    "from selenium.webdriver.support.ui import WebDriverWait\n",
    "from selenium.webdriver.common.keys import Keys\n",
    "from selenium.webdriver.common.by import By\n",
    "from selenium import webdriver\n",
    "from selenium.webdriver.support import expected_conditions as EC\n",
    "import time\n",
    "from selenium.webdriver.chrome.options import Options\n",
    "from bs4 import BeautifulSoup\n",
    "import numpy as np\n",
    "import matplotlib.pyplot as plt"
   ]
  },
  {
   "cell_type": "code",
   "execution_count": null,
   "id": "990f01cc",
   "metadata": {},
   "outputs": [],
   "source": [
    "#creating a drver session and loading instagram\n",
    "#then logging into my account\n",
    "\n",
    "os.path.dirname(sys.executable)\n",
    "driver = webdriver.Chrome()\n",
    "driver.get('https://instagram.com')\n",
    "user = driver.find_elements_by_css_selector('form input')[0]\n",
    "user.send_keys(\"Sample ID\")\n",
    "\n",
    "pas = driver.find_elements_by_css_selector('form input')[1]\n",
    "pas.send_keys(\"Sample Password\")\n",
    "\n",
    "form = driver.find_element_by_tag_name('form')\n",
    "form.submit()"
   ]
  },
  {
   "cell_type": "code",
   "execution_count": null,
   "id": "6906e974",
   "metadata": {},
   "outputs": [],
   "source": [
    "#search for food as keyword\n",
    "search= driver.find_element(By.XPATH,'//input[@placeholder = \"Search\"]')\n",
    "search.clear()\n",
    "search.send_keys('food')\n"
   ]
  },
  {
   "cell_type": "code",
   "execution_count": null,
   "id": "bb885cb0",
   "metadata": {},
   "outputs": [],
   "source": [
    "#collecting all the profiles in drop down menu\n",
    "name_class = driver.find_elements(By.XPATH,\"//div[@class = '_9_68 _9_6b _9_6i _9_6j _9_6t']\")"
   ]
  },
  {
   "cell_type": "code",
   "execution_count": null,
   "id": "dee18b61",
   "metadata": {},
   "outputs": [],
   "source": [
    "#storing the accounts except hashtags\n",
    "names = []\n",
    "for name in name_class[:11]:\n",
    "    i = name.get_attribute('innerHTML')\n",
    "    if i[0] != '#':\n",
    "        #name list to store the user names\n",
    "        names.append(i)\n",
    "for name in names:     \n",
    "    print(name)\n"
   ]
  },
  {
   "cell_type": "code",
   "execution_count": null,
   "id": "b228ac8c",
   "metadata": {},
   "outputs": [],
   "source": [
    "#function to store follower count\n",
    "\n",
    "#dictionary to store user names with their respective counts \n",
    "d_names = {}\n",
    "#takes user name as parameter\n",
    "def count_followers(name):\n",
    "    \n",
    "    base_url = 'https:www.instagram.com/'\n",
    "    driver.get(base_url+name)\n",
    "    driver.implicitly_wait(15)\n",
    "    data = driver.find_element(By.XPATH,\"//li[@class = '_9_da'][2]/a/div/span\")\n",
    "   \n",
    "    driver.implicitly_wait(10)\n",
    "    count = int(data.get_attribute('title').replace(',',''))\n",
    "    d_names[name] = count\n",
    "for name in names:\n",
    "    count_followers(name)"
   ]
  },
  {
   "cell_type": "code",
   "execution_count": null,
   "id": "cc1ac193",
   "metadata": {},
   "outputs": [],
   "source": [
    "#sorting the dictionary by followers count\n",
    "d_names = dict(sorted(d_names.items(),key = lambda item: item[1],reverse = True)[:5])\n",
    "for name in d_names:\n",
    "    print(name,'-',d_names[name])"
   ]
  },
  {
   "cell_type": "code",
   "execution_count": null,
   "id": "b2dea7af",
   "metadata": {},
   "outputs": [],
   "source": [
    "# 1.2 - Now Find the number of posts these handles have done in the previous 3 days.\n",
    "p_names = {}\n",
    "base_url = 'https:www.instagram.com/'\n",
    "\n",
    "#functon to count number of posts posted by the user in the last three days\n",
    "def count_posts(name):\n",
    "    count = 0\n",
    "    driver.get(base_url+name)\n",
    "    driver.implicitly_wait(15)\n",
    "    \n",
    "    post = WebDriverWait(driver,15).until(EC.presence_of_element_located((By.XPATH,\"//div[@class='_9_92']\"))) \n",
    "    post.click()\n",
    "    driver.implicitly_wait(15)\n",
    "    #traversing all posts and checking their upload time\n",
    "    while True:\n",
    "        #obtaining date function\n",
    "        date = driver.find_element(By.XPATH,\"//time[@class = '_9_wy _a41t']\")\n",
    "        time = date.get_attribute('innerHTML')\n",
    "        driver.implicitly_wait(15)\n",
    "        #if time is in sec,hour or min,like 1s,1m or 1h ,format then it will increase the count\n",
    "        if time[-1] in ['h' ,'s','m']:\n",
    "            count += 1\n",
    "        #else if the time is in days,it will check for the number\n",
    "        #we traverse till last second element to get the number,like 2d will mean 2 days ago\n",
    "        elif time[-1] == 'd':\n",
    "            d = int(time[:-1])\n",
    "            if d < 4:\n",
    "                count += 1\n",
    "        #else it will be years so we will break the loop\n",
    "        else:\n",
    "            driver.back()\n",
    "            break\n",
    "        #we click on next button to visit next post\n",
    "        next_button = driver.find_element(By.XPATH,\"//div[@class = ' _a1bt _a2jd']/button\").click()\n",
    "        driver.implicitly_wait(15)\n",
    "    #it is a dictionary to store the user name as key and it's post count as value\n",
    "    p_names[name] = count\n",
    "\n",
    "for name in p_names:\n",
    "    count_posts(name)\n",
    "    "
   ]
  },
  {
   "cell_type": "code",
   "execution_count": null,
   "id": "56ae5551",
   "metadata": {},
   "outputs": [],
   "source": [
    "# 1.3-Depict this information using a suitable graph.\n",
    "\n",
    "users = []\n",
    "posts = []\n",
    "#extractng the names and counts from the dictionary into lists\n",
    "for ele in p_names:\n",
    "    users.append(ele)\n",
    "    posts.append(p_names[ele])\n",
    "    \n",
    "#plotting bar graph\n",
    "plt.bar(users,posts)\n",
    "plt.xticks(rotation = 90)\n",
    "plt.grid()\n",
    "plt.show()\n",
    "    "
   ]
  },
  {
   "cell_type": "code",
   "execution_count": null,
   "id": "883857b9",
   "metadata": {},
   "outputs": [],
   "source": [
    "# 2-->Your friend also needs a list of hashtags that he should use in his posts.\n",
    "# 1 - Open the 5 handles you obtained in the last question, and scrape the content of the first 10 posts of each handle.\n",
    "# 2 - prepare a list of all words used in all the scraped posts and calculate the frequency of each word.\n",
    "# 3 - Create a csv file with two columns : the word and its frequency\n",
    "# 4 - Now, find the hashtags that were most popular among these bloggers\n",
    "# 5 - Plot a Pie Chart of the top 5 hashtags obtained and the number of times they were used by these bloggers in the scraped posts.\n",
    "\n"
   ]
  },
  {
   "cell_type": "code",
   "execution_count": 192,
   "id": "b19d7653",
   "metadata": {},
   "outputs": [],
   "source": [
    "# 2.1 - Open the 5 handles you obtained in the last question, and scrape the content of the first 10 posts of each handle.\n",
    "\n",
    "contents = []\n",
    "hashtags = []\n",
    "base_url = 'https:www.instagram.com/'\n",
    "user_contents = {}\n",
    "user_hashtags = {}\n",
    "user_likes = {}\n",
    "\n",
    "\n",
    "#a function which will collect the post description,likes and hashtags o 10 posts\n",
    "#we pass the user handle as parameter\n",
    "def content(name):\n",
    "    count = 0\n",
    "    total_likes = 0\n",
    "    #linking the user name with the base url to get desired link\n",
    "    driver.get(base_url+name)\n",
    "    driver.implicitly_wait(15)\n",
    "    \n",
    "    #opening the first post\n",
    "    post = WebDriverWait(driver,15).until(EC.presence_of_element_located((By.XPATH,\"//div[@class='_9_92']\"))) \n",
    "    post.click()\n",
    "    driver.implicitly_wait(15)\n",
    "    \n",
    "    #traverse through all posts of that user\n",
    "    while True:\n",
    "        #collect the post description\n",
    "        contents_all = driver.find_element(By.XPATH,\"//span[@class = '_9_68 _9_6b _9_6h _9_6j _9_6u _9_6_']\")\n",
    "        c = contents_all.get_attribute('textContent')\n",
    "        #adding to the contents list\n",
    "        contents.append(c)\n",
    "        driver.implicitly_wait(15)\n",
    "        \n",
    "        #collecting the hashes\n",
    "        hash_all = driver.find_elements(By.XPATH,'//span[contains(@class, \"_9_68 _9_6b _9_6h _9_6j _9_6u _9_6_\")]/a')\n",
    "        for hashes in hash_all:\n",
    "            h = hashes.get_attribute('innerHTML')\n",
    "            hashtags.append(h)\n",
    "        #checks if a post is an image or a video\n",
    "        #if it's a video the try block will throw and error and goes to except block\n",
    "        try:\n",
    "            #the post is an image\n",
    "            like_data = driver.find_element(By.XPATH,\"//section[@class = '_9-v2 _a040']/div/div/div/a/div\")\n",
    "            like_text = like_data.get_attribute('outerHTML')\n",
    "\n",
    "            #removing the commas\n",
    "            likes = BeautifulSoup(like_text,'html5lib').text.replace(',','')\n",
    "            #splitting by space and choosing first value which shows the number\n",
    "            total_likes += int(likes.split()[0])\n",
    "        except:\n",
    "            #the post is a video\n",
    "            #we click on the views to open the like counts\n",
    "            button_like = driver.find_element(By.XPATH,\"//span[@class='_9zzx']\")\n",
    "            driver.execute_script(\"arguments[0].click();\", button_like)\n",
    "            driver.implicitly_wait(10)\n",
    "            \n",
    "            #we obtain the like counts menu\n",
    "            like_data = driver.find_element(By.XPATH,\"//div[@class='_9zzv']/span\")\n",
    "            like_html_data = BeautifulSoup(like_data.get_attribute('outerHTML'),'html5lib')\n",
    "            \n",
    "            #removing the commas\n",
    "            likes = like_html_data.text.replace(\",\",'')\n",
    "            #splitting by space and choosing first value which shows the number\n",
    "            total_likes +=int(likes.split()[0])\n",
    "         \n",
    "            driver.find_element(By.XPATH,\"//div[@class='_9zzs']\").click()\n",
    "            driver.implicitly_wait(10)\n",
    "        count+=1\n",
    "        if count>=10:\n",
    "            break\n",
    "        next_button = driver.find_element(By.XPATH,\"//div[@class = ' _a1bt _a2jd']/button\").click()\n",
    "        driver.implicitly_wait(15)\n",
    "    #storing user posts\n",
    "    user_contents[name] = contents\n",
    "    #storing user tags\n",
    "    user_hashtags[name] = hashtags\n",
    "    #storing user likes\n",
    "    user_likes[name] = total_likes\n",
    "    driver.back()\n",
    "    driver.implicitly_wait(10)\n",
    "for name in d_names:\n",
    "    content(name)\n"
   ]
  },
  {
   "cell_type": "code",
   "execution_count": null,
   "id": "d7c65765",
   "metadata": {},
   "outputs": [],
   "source": [
    "print(user_contents)\n",
    "print(user_hashtags)\n",
    "print(user_likes)"
   ]
  },
  {
   "cell_type": "code",
   "execution_count": null,
   "id": "e74d92dd",
   "metadata": {
    "scrolled": true
   },
   "outputs": [],
   "source": [
    "# 2.2 - Prepare a list of all words used in all the scraped posts and calculate the frequency of each word.\n",
    "\n",
    "#traversing through the hashes lists\n",
    "word_freq = {}\n",
    "for user in user_hashtags:\n",
    "    words = user_hashtags[user]\n",
    "    \n",
    "    #if the tag is not an account we increase it's count or add to the dictionary\n",
    "    for word in words:\n",
    "        if word[0] != '@':\n",
    "            word_freq[word] = word_freq.get(word,0) + 1\n",
    "    \n",
    "for word in word_freq:\n",
    "    print(word,'-',word_freq[word])\n"
   ]
  },
  {
   "cell_type": "code",
   "execution_count": null,
   "id": "c2f9358c",
   "metadata": {},
   "outputs": [],
   "source": [
    "# 2.3 - Create a csv file with two columns : the word and its frequency\n",
    "\n",
    "#storing hash names and their counts into lists\n",
    "hash_word = [i for i in word_freq.keys()]\n",
    "frequency = [i for i in word_freq.values()]\n",
    "\n",
    "df=pd.DataFrame()\n",
    "df['Words']=hash_word\n",
    "df['Frequency']=frequency\n",
    "df.to_csv('word_frequency.csv')\n"
   ]
  },
  {
   "cell_type": "code",
   "execution_count": 158,
   "id": "17dbde58",
   "metadata": {},
   "outputs": [
    {
     "data": {
      "text/plain": [
       "{'#foodie': 20,\n",
       " '#foodporn': 15,\n",
       " '#recipevideo': 15,\n",
       " '#yourfoodlab': 10,\n",
       " '#sanjyotkeer': 10}"
      ]
     },
     "execution_count": 158,
     "metadata": {},
     "output_type": "execute_result"
    }
   ],
   "source": [
    "# 2.4 - Now, find the hashtags that were most popular among these bloggers\n",
    "\n",
    "#sorting the dictionary and finding top 5 hash words\n",
    "word_freq = dict(sorted(word_freq.items(),key = lambda item: item[1],reverse = True)[:5])\n",
    "word_freq\n"
   ]
  },
  {
   "cell_type": "code",
   "execution_count": 156,
   "id": "f2321de9",
   "metadata": {},
   "outputs": [
    {
     "data": {
      "image/png": "[encoded data removed]",
      "text/plain": [
       "<Figure size 720x720 with 1 Axes>"
      ]
     },
     "metadata": {},
     "output_type": "display_data"
    }
   ],
   "source": [
    "# 2.5 - # 5 - Plot a Pie Chart of the top 5 hashtags obtained and the number of times they were used by these bloggers in the scraped posts.\n",
    "\n",
    "#plotting pie chart showing words and their frequencies\n",
    "x=hash_word[:5]\n",
    "y=frequency[:5]\n",
    "plt.figure(figsize=(10, 10))\n",
    "plt.pie(y, labels=x, autopct='%.2f%%', shadow=True, labeldistance=1.2)\n",
    "plt.title('Pie Chart of the top 5 hashtags ')\n",
    "plt.show()"
   ]
  },
  {
   "cell_type": "code",
   "execution_count": 159,
   "id": "90e23fdc",
   "metadata": {},
   "outputs": [],
   "source": [
    "# 3  \n",
    "#     You need to also calculate average followers : likes ratio for the obtained handles.\n",
    "# 1 - Followers : Likes ratio is calculated as follows:\n",
    "# 2 - Find out the likes of the top 10 posts of the 5 handles obtained earlier.\n",
    "# 3 - Calculate the average likes for a handle.\n",
    "# 4 - Divide the average likes obtained from the number of followers of the handle to get the average followers:like ratio of each handle.\n",
    "# 5 - Create a bar graph to depict the above obtained information."
   ]
  },
  {
   "cell_type": "code",
   "execution_count": 195,
   "id": "702ee030",
   "metadata": {},
   "outputs": [
    {
     "name": "stdout",
     "output_type": "stream",
     "text": [
      "[46902.2, 20028.8, 2934.7, 34124.1, 1242.8]\n"
     ]
    }
   ],
   "source": [
    "# 3.3 - Calculate the average likes for a handle.\n",
    "\n",
    "#calculating average likes by dividing each user total likes by 10\n",
    "avg_likes = []\n",
    "for likes in user_likes:\n",
    "    avg = user_likes[likes] / 10\n",
    "    avg_likes.append(avg)\n",
    "    \n",
    "print(avg_likes)"
   ]
  },
  {
   "cell_type": "code",
   "execution_count": 198,
   "id": "687c7fd4",
   "metadata": {},
   "outputs": [
    {
     "name": "stdout",
     "output_type": "stream",
     "text": [
      "[80.90776125640163, 97.82508188208979, 587.4280164923161, 37.97155089804566, 964.565497264242]\n"
     ]
    }
   ],
   "source": [
    "#calculating ratio of average followers by dividing each user's followers by the user's average likes\n",
    "\n",
    "avg_followers = []\n",
    "i = 0\n",
    "for user in d_names:\n",
    "    avg = d_names[user] / avg_likes[i]\n",
    "    avg_followers.append(avg)\n",
    "    i += 1\n",
    "print(avg_followers)"
   ]
  },
  {
   "cell_type": "code",
   "execution_count": 200,
   "id": "aad4bec9",
   "metadata": {},
   "outputs": [],
   "source": [
    "#storing the names in the dictionary into a list\n",
    "user_list = [i for i in d_names]    "
   ]
  },
  {
   "cell_type": "code",
   "execution_count": 205,
   "id": "37382443",
   "metadata": {},
   "outputs": [
    {
     "data": {
      "image/png": "[encoded data removed]",
      "text/plain": [
       "<Figure size 432x288 with 1 Axes>"
      ]
     },
     "metadata": {
      "needs_background": "light"
     },
     "output_type": "display_data"
    }
   ],
   "source": [
    "# Create a bar graph to depict the above obtained information.\n",
    "\n",
    "#plotting bar graph for users and their average likes\n",
    "plt.bar(user_list,avg_likes)\n",
    "plt.title('Average Likes')\n",
    "plt.xticks(rotation = 90)\n",
    "plt.grid()\n",
    "plt.show()"
   ]
  },
  {
   "cell_type": "code",
   "execution_count": 206,
   "id": "bdecebce",
   "metadata": {},
   "outputs": [
    {
     "data": {
      "image/png": "[encoded data removed]",
      "text/plain": [
       "<Figure size 432x288 with 1 Axes>"
      ]
     },
     "metadata": {
      "needs_background": "light"
     },
     "output_type": "display_data"
    }
   ],
   "source": [
    "\n",
    "#plotting bar graph for the users and their average followers \n",
    "plt.bar(user_list,avg_followers)\n",
    "plt.title('Average Followers')\n",
    "plt.xticks(rotation = 90)\n",
    "plt.grid()\n",
    "plt.show()\n",
    "\n"
   ]
  },
  {
   "cell_type": "code",
   "execution_count": null,
   "id": "063a5956",
   "metadata": {},
   "outputs": [],
   "source": []
  }
 ],
 "metadata": {
  "kernelspec": {
   "display_name": "Python 3 (ipykernel)",
   "language": "python",
   "name": "python3"
  },
  "language_info": {
   "codemirror_mode": {
    "name": "ipython",
    "version": 3
   },
   "file_extension": ".py",
   "mimetype": "text/x-python",
   "name": "python",
   "nbconvert_exporter": "python",
   "pygments_lexer": "ipython3",
   "version": "3.9.7"
  }
 },
 "nbformat": 4,
 "nbformat_minor": 5
}
